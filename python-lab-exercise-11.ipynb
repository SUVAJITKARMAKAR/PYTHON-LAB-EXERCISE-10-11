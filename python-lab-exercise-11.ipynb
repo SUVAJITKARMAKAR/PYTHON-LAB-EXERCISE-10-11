{
 "cells": [
  {
   "cell_type": "code",
   "execution_count": null,
   "metadata": {},
   "outputs": [],
   "source": [
    "import pandas as pd\n",
    "import matplotlib.pyplot as plt\n",
    "\n",
    "# Load the dataset\n",
    "df = pd.read_csv('social-media-dataset.csv')\n",
    "\n",
    "# Inspect the dataset\n",
    "df.info()\n",
    "df.describe()\n",
    "\n",
    "# Identify outliers\n",
    "plt.boxplot([df['followers'], df['posts'], df['likes'], df['comments']])\n",
    "plt.show()\n",
    "\n",
    "# Identify correlations\n",
    "plt.scatter(df['followers'], df['posts'])\n",
    "plt.xlabel('Followers')\n",
    "plt.ylabel('Posts')\n",
    "plt.show()\n",
    "\n",
    "# Visualize the data\n",
    "plt.plot(df['followers'], df['likes'])\n",
    "plt.xlabel('Followers')\n",
    "plt.ylabel('Likes')\n",
    "plt.show()\n",
    "\n",
    "\n",
    "plt.scatter(df['posts'], df['likes'])\n",
    "plt.xlabel('Posts')\n",
    "plt.ylabel('Likes')\n",
    "plt.show()\n",
    "\n",
    "\n",
    "# Calculate the average number of likes per post for each follower count\n",
    "df_grouped = df.groupby('followers')['likes_per_post'].mean()\n",
    "\n",
    "# Create a line plot of the average number of likes per post for each follower count\n",
    "plt.plot(df_grouped.index, df_grouped.values)\n",
    "plt.xlabel('Follower Count')\n",
    "plt.ylabel('Average Likes per Post')\n",
    "plt.show()\n"
   ]
  }
 ],
 "metadata": {
  "kernelspec": {
   "display_name": "Python 3",
   "language": "python",
   "name": "python3"
  },
  "language_info": {
   "name": "python",
   "version": "3.11.5"
  },
  "orig_nbformat": 4
 },
 "nbformat": 4,
 "nbformat_minor": 2
}
